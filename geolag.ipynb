{
 "cells": [
  {
   "cell_type": "code",
   "execution_count": 14,
   "metadata": {},
   "outputs": [],
   "source": [
    "from geolag import *\n",
    "import geofunk"
   ]
  },
  {
   "cell_type": "code",
   "execution_count": 15,
   "metadata": {},
   "outputs": [
    {
     "name": "stdout",
     "output_type": "stream",
     "text": [
      "300\n",
      "500\n",
      "700\n"
     ]
    }
   ],
   "source": [
    "leire = GeoLag('leire', 0, 300, 18)\n",
    "leire.sett_styrke_parameter(25, 3)\n",
    "silt = GeoLag('silt', 300, 800, 20)\n",
    "silt.sett_styrke_parameter(32, 5)\n",
    "morene = GeoLag('morene', 800, 1500, 19)\n",
    "morene.sett_styrke_parameter(38, 10)\n"
   ]
  },
  {
   "cell_type": "code",
   "execution_count": 16,
   "metadata": {},
   "outputs": [
    {
     "name": "stdout",
     "output_type": "stream",
     "text": [
      "Jordart: silt , Mektighet: 500 cm, \n"
     ]
    }
   ],
   "source": [
    "print(silt)"
   ]
  },
  {
   "cell_type": "code",
   "execution_count": 17,
   "metadata": {},
   "outputs": [
    {
     "name": "stdout",
     "output_type": "stream",
     "text": [
      "Jordart: leire , Mektighet: 300 cm, \n",
      "18\n",
      "Jordart: silt , Mektighet: 500 cm, \n",
      "20\n",
      "Jordart: morene , Mektighet: 700 cm, \n",
      "19\n"
     ]
    },
    {
     "name": "stderr",
     "output_type": "stream",
     "text": [
      "C:\\Users\\jan.aalbu\\OneDrive - Asplan Viak\\Documents\\Koding\\geotoolz\\geolag.py:119: SettingWithCopyWarning: \n",
      "A value is trying to be set on a copy of a slice from a DataFrame\n",
      "\n",
      "See the caveats in the documentation: https://pandas.pydata.org/pandas-docs/stable/user_guide/indexing.html#returning-a-view-versus-a-copy\n",
      "  self.lagdf['U'].loc[self.lagdf['Meter'] > self.u] = self.lagdf['Meter'] * 10 - self.u *10\n",
      "C:\\Users\\jan.aalbu\\OneDrive - Asplan Viak\\Documents\\Koding\\geotoolz\\geolag.py:125: SettingWithCopyWarning: \n",
      "A value is trying to be set on a copy of a slice from a DataFrame\n",
      "\n",
      "See the caveats in the documentation: https://pandas.pydata.org/pandas-docs/stable/user_guide/indexing.html#returning-a-view-versus-a-copy\n",
      "  self.lagdf['Gamma'].loc[((self.lagdf['Djupne'] >= lag.ztopp) & (self.lagdf['Djupne'] <= lag.zbunn))] = lag.gamma\n"
     ]
    }
   ],
   "source": [
    "lagliste = [leire, silt, morene]\n",
    "lagpakke = geoLagPakke(lagliste, 5)"
   ]
  },
  {
   "cell_type": "code",
   "execution_count": 18,
   "metadata": {},
   "outputs": [
    {
     "data": {
      "image/png": "[encoded data removed]",
      "text/plain": [
       "<Figure size 360x576 with 1 Axes>"
      ]
     },
     "metadata": {
      "needs_background": "light"
     },
     "output_type": "display_data"
    }
   ],
   "source": [
    "lagpakke.spennings_plott()"
   ]
  },
  {
   "cell_type": "code",
   "execution_count": 19,
   "metadata": {},
   "outputs": [
    {
     "name": "stdout",
     "output_type": "stream",
     "text": [
      "      Djupne  Meter     U      Pv  Gamma  Vekt     Pv'\n",
      "0          0   0.00   0.0    0.18     18  0.18    0.18\n",
      "1          1   0.01   0.0    0.36     18  0.18    0.36\n",
      "2          2   0.02   0.0    0.54     18  0.18    0.54\n",
      "3          3   0.03   0.0    0.72     18  0.18    0.72\n",
      "4          4   0.04   0.0    0.90     18  0.18    0.90\n",
      "...      ...    ...   ...     ...    ...   ...     ...\n",
      "1495    1495  14.95  99.5  286.24     19  0.19  186.74\n",
      "1496    1496  14.96  99.6  286.43     19  0.19  186.83\n",
      "1497    1497  14.97  99.7  286.62     19  0.19  186.92\n",
      "1498    1498  14.98  99.8  286.81     19  0.19  187.01\n",
      "1499    1499  14.99  99.9  287.00     19  0.19  187.10\n",
      "\n",
      "[1500 rows x 7 columns]\n",
      "      Djupne  Meter     U      Pv  Gamma  Vekt     Pv'  K0\n",
      "0          0   0.00   0.0    0.18     18  0.18    0.18   0\n",
      "1          1   0.01   0.0    0.36     18  0.18    0.36   0\n",
      "2          2   0.02   0.0    0.54     18  0.18    0.54   0\n",
      "3          3   0.03   0.0    0.72     18  0.18    0.72   0\n",
      "4          4   0.04   0.0    0.90     18  0.18    0.90   0\n",
      "...      ...    ...   ...     ...    ...   ...     ...  ..\n",
      "1495    1495  14.95  99.5  286.24     19  0.19  186.74   0\n",
      "1496    1496  14.96  99.6  286.43     19  0.19  186.83   0\n",
      "1497    1497  14.97  99.7  286.62     19  0.19  186.92   0\n",
      "1498    1498  14.98  99.8  286.81     19  0.19  187.01   0\n",
      "1499    1499  14.99  99.9  287.00     19  0.19  187.10   0\n",
      "\n",
      "[1500 rows x 8 columns]\n",
      "      Djupne  Meter     U      Pv  Gamma  Vekt     Pv'        K0   Ph' (K0)\n",
      "0          0   0.00   0.0    0.18     18  0.18    0.18  0.577382   0.103929\n",
      "1          1   0.01   0.0    0.36     18  0.18    0.36  0.577382   0.207857\n",
      "2          2   0.02   0.0    0.54     18  0.18    0.54  0.577382   0.311786\n",
      "3          3   0.03   0.0    0.72     18  0.18    0.72  0.577382   0.415715\n",
      "4          4   0.04   0.0    0.90     18  0.18    0.90  0.577382   0.519644\n",
      "...      ...    ...   ...     ...    ...   ...     ...       ...        ...\n",
      "1495    1495  14.95  99.5  286.24     19  0.19  186.74  0.384339  71.771376\n",
      "1496    1496  14.96  99.6  286.43     19  0.19  186.83  0.384339  71.805967\n",
      "1497    1497  14.97  99.7  286.62     19  0.19  186.92  0.384339  71.840557\n",
      "1498    1498  14.98  99.8  286.81     19  0.19  187.01  0.384339  71.875147\n",
      "1499    1499  14.99  99.9  287.00     19  0.19  187.10  0.384339  71.909738\n",
      "\n",
      "[1500 rows x 9 columns]\n"
     ]
    },
    {
     "name": "stderr",
     "output_type": "stream",
     "text": [
      "C:\\Users\\jan.aalbu\\OneDrive - Asplan Viak\\Documents\\Koding\\geotoolz\\geolag.py:160: SettingWithCopyWarning: \n",
      "A value is trying to be set on a copy of a slice from a DataFrame\n",
      "\n",
      "See the caveats in the documentation: https://pandas.pydata.org/pandas-docs/stable/user_guide/indexing.html#returning-a-view-versus-a-copy\n",
      "  self.lagdf['K0'].loc[((self.lagdf['Djupne'] >= lag.ztopp) & (self.lagdf['Djupne'] <= lag.zbunn))] = lag.k0\n",
      "C:\\Users\\jan.aalbu\\OneDrive - Asplan Viak\\Documents\\Koding\\geotoolz\\geolag.py:150: SettingWithCopyWarning: \n",
      "A value is trying to be set on a copy of a slice from a DataFrame\n",
      "\n",
      "See the caveats in the documentation: https://pandas.pydata.org/pandas-docs/stable/user_guide/indexing.html#returning-a-view-versus-a-copy\n",
      "  self.lagdf['Ka'].loc[((self.lagdf['Djupne'] >= lag.ztopp) & (self.lagdf['Djupne'] <= lag.zbunn))] = lag.ka\n"
     ]
    },
    {
     "data": {
      "text/plain": [
       "'Ka utført'"
      ]
     },
     "execution_count": 19,
     "metadata": {},
     "output_type": "execute_result"
    }
   ],
   "source": [
    "lagpakke.k0()\n",
    "lagpakke.aktiv()"
   ]
  },
  {
   "cell_type": "code",
   "execution_count": 20,
   "metadata": {},
   "outputs": [
    {
     "data": {
      "text/html": [
       "<div>\n",
       "<style scoped>\n",
       "    .dataframe tbody tr th:only-of-type {\n",
       "        vertical-align: middle;\n",
       "    }\n",
       "\n",
       "    .dataframe tbody tr th {\n",
       "        vertical-align: top;\n",
       "    }\n",
       "\n",
       "    .dataframe thead th {\n",
       "        text-align: right;\n",
       "    }\n",
       "</style>\n",
       "<table border=\"1\" class=\"dataframe\">\n",
       "  <thead>\n",
       "    <tr style=\"text-align: right;\">\n",
       "      <th></th>\n",
       "      <th>Djupne</th>\n",
       "      <th>Meter</th>\n",
       "      <th>U</th>\n",
       "      <th>Pv</th>\n",
       "      <th>Gamma</th>\n",
       "      <th>Vekt</th>\n",
       "      <th>Pv'</th>\n",
       "      <th>K0</th>\n",
       "      <th>Ph' (K0)</th>\n",
       "      <th>Ka</th>\n",
       "      <th>Ph' (Ka)</th>\n",
       "    </tr>\n",
       "  </thead>\n",
       "  <tbody>\n",
       "    <tr>\n",
       "      <th>0</th>\n",
       "      <td>0</td>\n",
       "      <td>0.00</td>\n",
       "      <td>0.0</td>\n",
       "      <td>0.18</td>\n",
       "      <td>18</td>\n",
       "      <td>0.18</td>\n",
       "      <td>0.18</td>\n",
       "      <td>0.577382</td>\n",
       "      <td>0.103929</td>\n",
       "      <td>0.413104</td>\n",
       "      <td>0.074359</td>\n",
       "    </tr>\n",
       "    <tr>\n",
       "      <th>1</th>\n",
       "      <td>1</td>\n",
       "      <td>0.01</td>\n",
       "      <td>0.0</td>\n",
       "      <td>0.36</td>\n",
       "      <td>18</td>\n",
       "      <td>0.18</td>\n",
       "      <td>0.36</td>\n",
       "      <td>0.577382</td>\n",
       "      <td>0.207857</td>\n",
       "      <td>0.413104</td>\n",
       "      <td>0.148717</td>\n",
       "    </tr>\n",
       "    <tr>\n",
       "      <th>2</th>\n",
       "      <td>2</td>\n",
       "      <td>0.02</td>\n",
       "      <td>0.0</td>\n",
       "      <td>0.54</td>\n",
       "      <td>18</td>\n",
       "      <td>0.18</td>\n",
       "      <td>0.54</td>\n",
       "      <td>0.577382</td>\n",
       "      <td>0.311786</td>\n",
       "      <td>0.413104</td>\n",
       "      <td>0.223076</td>\n",
       "    </tr>\n",
       "    <tr>\n",
       "      <th>3</th>\n",
       "      <td>3</td>\n",
       "      <td>0.03</td>\n",
       "      <td>0.0</td>\n",
       "      <td>0.72</td>\n",
       "      <td>18</td>\n",
       "      <td>0.18</td>\n",
       "      <td>0.72</td>\n",
       "      <td>0.577382</td>\n",
       "      <td>0.415715</td>\n",
       "      <td>0.413104</td>\n",
       "      <td>0.297435</td>\n",
       "    </tr>\n",
       "    <tr>\n",
       "      <th>4</th>\n",
       "      <td>4</td>\n",
       "      <td>0.04</td>\n",
       "      <td>0.0</td>\n",
       "      <td>0.90</td>\n",
       "      <td>18</td>\n",
       "      <td>0.18</td>\n",
       "      <td>0.90</td>\n",
       "      <td>0.577382</td>\n",
       "      <td>0.519644</td>\n",
       "      <td>0.413104</td>\n",
       "      <td>0.371794</td>\n",
       "    </tr>\n",
       "    <tr>\n",
       "      <th>...</th>\n",
       "      <td>...</td>\n",
       "      <td>...</td>\n",
       "      <td>...</td>\n",
       "      <td>...</td>\n",
       "      <td>...</td>\n",
       "      <td>...</td>\n",
       "      <td>...</td>\n",
       "      <td>...</td>\n",
       "      <td>...</td>\n",
       "      <td>...</td>\n",
       "      <td>...</td>\n",
       "    </tr>\n",
       "    <tr>\n",
       "      <th>1495</th>\n",
       "      <td>1495</td>\n",
       "      <td>14.95</td>\n",
       "      <td>99.5</td>\n",
       "      <td>286.24</td>\n",
       "      <td>19</td>\n",
       "      <td>0.19</td>\n",
       "      <td>186.74</td>\n",
       "      <td>0.384339</td>\n",
       "      <td>71.771376</td>\n",
       "      <td>0.233004</td>\n",
       "      <td>43.511202</td>\n",
       "    </tr>\n",
       "    <tr>\n",
       "      <th>1496</th>\n",
       "      <td>1496</td>\n",
       "      <td>14.96</td>\n",
       "      <td>99.6</td>\n",
       "      <td>286.43</td>\n",
       "      <td>19</td>\n",
       "      <td>0.19</td>\n",
       "      <td>186.83</td>\n",
       "      <td>0.384339</td>\n",
       "      <td>71.805967</td>\n",
       "      <td>0.233004</td>\n",
       "      <td>43.532172</td>\n",
       "    </tr>\n",
       "    <tr>\n",
       "      <th>1497</th>\n",
       "      <td>1497</td>\n",
       "      <td>14.97</td>\n",
       "      <td>99.7</td>\n",
       "      <td>286.62</td>\n",
       "      <td>19</td>\n",
       "      <td>0.19</td>\n",
       "      <td>186.92</td>\n",
       "      <td>0.384339</td>\n",
       "      <td>71.840557</td>\n",
       "      <td>0.233004</td>\n",
       "      <td>43.553142</td>\n",
       "    </tr>\n",
       "    <tr>\n",
       "      <th>1498</th>\n",
       "      <td>1498</td>\n",
       "      <td>14.98</td>\n",
       "      <td>99.8</td>\n",
       "      <td>286.81</td>\n",
       "      <td>19</td>\n",
       "      <td>0.19</td>\n",
       "      <td>187.01</td>\n",
       "      <td>0.384339</td>\n",
       "      <td>71.875147</td>\n",
       "      <td>0.233004</td>\n",
       "      <td>43.574113</td>\n",
       "    </tr>\n",
       "    <tr>\n",
       "      <th>1499</th>\n",
       "      <td>1499</td>\n",
       "      <td>14.99</td>\n",
       "      <td>99.9</td>\n",
       "      <td>287.00</td>\n",
       "      <td>19</td>\n",
       "      <td>0.19</td>\n",
       "      <td>187.10</td>\n",
       "      <td>0.384339</td>\n",
       "      <td>71.909738</td>\n",
       "      <td>0.233004</td>\n",
       "      <td>43.595083</td>\n",
       "    </tr>\n",
       "  </tbody>\n",
       "</table>\n",
       "<p>1500 rows × 11 columns</p>\n",
       "</div>"
      ],
      "text/plain": [
       "      Djupne  Meter     U      Pv  Gamma  Vekt     Pv'        K0   Ph' (K0)  \\\n",
       "0          0   0.00   0.0    0.18     18  0.18    0.18  0.577382   0.103929   \n",
       "1          1   0.01   0.0    0.36     18  0.18    0.36  0.577382   0.207857   \n",
       "2          2   0.02   0.0    0.54     18  0.18    0.54  0.577382   0.311786   \n",
       "3          3   0.03   0.0    0.72     18  0.18    0.72  0.577382   0.415715   \n",
       "4          4   0.04   0.0    0.90     18  0.18    0.90  0.577382   0.519644   \n",
       "...      ...    ...   ...     ...    ...   ...     ...       ...        ...   \n",
       "1495    1495  14.95  99.5  286.24     19  0.19  186.74  0.384339  71.771376   \n",
       "1496    1496  14.96  99.6  286.43     19  0.19  186.83  0.384339  71.805967   \n",
       "1497    1497  14.97  99.7  286.62     19  0.19  186.92  0.384339  71.840557   \n",
       "1498    1498  14.98  99.8  286.81     19  0.19  187.01  0.384339  71.875147   \n",
       "1499    1499  14.99  99.9  287.00     19  0.19  187.10  0.384339  71.909738   \n",
       "\n",
       "            Ka   Ph' (Ka)  \n",
       "0     0.413104   0.074359  \n",
       "1     0.413104   0.148717  \n",
       "2     0.413104   0.223076  \n",
       "3     0.413104   0.297435  \n",
       "4     0.413104   0.371794  \n",
       "...        ...        ...  \n",
       "1495  0.233004  43.511202  \n",
       "1496  0.233004  43.532172  \n",
       "1497  0.233004  43.553142  \n",
       "1498  0.233004  43.574113  \n",
       "1499  0.233004  43.595083  \n",
       "\n",
       "[1500 rows x 11 columns]"
      ]
     },
     "execution_count": 20,
     "metadata": {},
     "output_type": "execute_result"
    }
   ],
   "source": [
    "lagpakke.lagdf"
   ]
  },
  {
   "cell_type": "code",
   "execution_count": 21,
   "metadata": {},
   "outputs": [
    {
     "data": {
      "image/png": "[encoded data removed]",
      "text/plain": [
       "<Figure size 360x576 with 1 Axes>"
      ]
     },
     "metadata": {
      "needs_background": "light"
     },
     "output_type": "display_data"
    }
   ],
   "source": [
    "lagpakke.jordtrykks_plott()"
   ]
  },
  {
   "cell_type": "code",
   "execution_count": 22,
   "metadata": {},
   "outputs": [
    {
     "ename": "AttributeError",
     "evalue": "module 'geofunk' has no attribute 'grunntrykk'",
     "output_type": "error",
     "traceback": [
      "\u001b[1;31m---------------------------------------------------------------------------\u001b[0m",
      "\u001b[1;31mAttributeError\u001b[0m                            Traceback (most recent call last)",
      "Input \u001b[1;32mIn [22]\u001b[0m, in \u001b[0;36m<cell line: 1>\u001b[1;34m()\u001b[0m\n\u001b[1;32m----> 1\u001b[0m sigma \u001b[38;5;241m=\u001b[39m \u001b[43mgeofunk\u001b[49m\u001b[38;5;241;43m.\u001b[39;49m\u001b[43mgrunntrykk\u001b[49m(lagpakke, \u001b[38;5;241m1\u001b[39m, lagpakke)\n",
      "\u001b[1;31mAttributeError\u001b[0m: module 'geofunk' has no attribute 'grunntrykk'"
     ]
    }
   ],
   "source": [
    "sigma = geofunk.grunntrykk(lagpakke, 1, lagpakke)"
   ]
  },
  {
   "cell_type": "code",
   "execution_count": null,
   "metadata": {},
   "outputs": [],
   "source": []
  },
  {
   "cell_type": "code",
   "execution_count": null,
   "metadata": {},
   "outputs": [],
   "source": []
  },
  {
   "cell_type": "code",
   "execution_count": null,
   "metadata": {},
   "outputs": [],
   "source": []
  },
  {
   "cell_type": "code",
   "execution_count": null,
   "metadata": {},
   "outputs": [],
   "source": []
  },
  {
   "cell_type": "code",
   "execution_count": null,
   "metadata": {},
   "outputs": [],
   "source": []
  }
 ],
 "metadata": {
  "interpreter": {
   "hash": "c77783ac68d42630d62b6e5d86c2bba3b2cf70c6bead08478355b135582fdc29"
  },
  "kernelspec": {
   "display_name": "Python 3 (ipykernel)",
   "language": "python",
   "name": "python3"
  },
  "language_info": {
   "codemirror_mode": {
    "name": "ipython",
    "version": 3
   },
   "file_extension": ".py",
   "mimetype": "text/x-python",
   "name": "python",
   "nbconvert_exporter": "python",
   "pygments_lexer": "ipython3",
   "version": "3.10.4"
  }
 },
 "nbformat": 4,
 "nbformat_minor": 4
}
