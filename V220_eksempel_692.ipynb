{
 "cells": [
  {
   "cell_type": "code",
   "execution_count": 1,
   "metadata": {},
   "outputs": [],
   "source": [
    "import geo_plot\n",
    "import grunn\n",
    "import sonegeometri\n",
    "import geofunk\n",
    "import math"
   ]
  },
  {
   "cell_type": "code",
   "execution_count": 2,
   "metadata": {},
   "outputs": [],
   "source": [
    "#Tangens til friksjonsvinkel\n",
    "tan_fi = 0.7\n",
    "#Attraksjon\n",
    "attraksjon = 10\n",
    "#Mektighet lagpakke\n",
    "z_lag = 5\n",
    "#Grunnvanstand\n",
    "u = 2\n",
    "\n",
    "#Tyngdetetthet\n",
    "gamma = 20\n",
    "#Materialfaktor\n",
    "gamma_m = 1.4\n",
    "\n",
    "tan_fi_d = tan_fi/gamma_m\n",
    "#minimum b0\n",
    "b0_min = 0.5\n",
    "#maksimum b0\n",
    "b0_maks = 5\n",
    "\n",
    "#vertikalkrefter\n",
    "fv_fund = 360\n",
    "#Dybde til underkant fundament\n",
    "z = 2\n",
    "#Horisontalkrefter\n",
    "fh = 120\n",
    "\n",
    "\n",
    "helling_forhold = 0.33\n",
    "\n"
   ]
  },
  {
   "cell_type": "code",
   "execution_count": 3,
   "metadata": {},
   "outputs": [
    {
     "name": "stdout",
     "output_type": "stream",
     "text": [
      "Lag i Jordprofilet\n",
      "Lag med navn: grus med mektihget: 5.0 m\n",
      " Parametere:  \n",
      " phi=35, tanphi=0.7, attraksjon=10, kohesjon=7.0, cu=0 \n",
      "Lag med navn: sand med mektihget: 15.0 m\n",
      " Parametere:  \n",
      " phi=33, tanphi=0.65, attraksjon=4, kohesjon=2.6, cu=0 \n",
      "\n"
     ]
    }
   ],
   "source": [
    "grus = grunn.JordLag(\"grus\", 500, 20)\n",
    "sand = grunn.JordLag(\"sand\", 1500, 19)\n",
    "grus.sett_styrke_parameter(phi=35, attraksjon=10)\n",
    "sand.sett_styrke_parameter(phi=33, attraksjon=4)\n",
    "jordprofil = grunn.JordProfil([grus, sand], u=2)\n",
    "print(jordprofil)\n",
    "print(jordprofil)\n"
   ]
  },
  {
   "cell_type": "code",
   "execution_count": 4,
   "metadata": {},
   "outputs": [
    {
     "ename": "TypeError",
     "evalue": "Fundament.__init__() missing 1 required positional argument: 'tykkelse'",
     "output_type": "error",
     "traceback": [
      "\u001b[1;31m---------------------------------------------------------------------------\u001b[0m",
      "\u001b[1;31mTypeError\u001b[0m                                 Traceback (most recent call last)",
      "Cell \u001b[1;32mIn [4], line 1\u001b[0m\n\u001b[1;32m----> 1\u001b[0m fundament \u001b[39m=\u001b[39m grunn\u001b[39m.\u001b[39;49mFundament(\u001b[39m4\u001b[39;49m, z, fv_fund, fh)\n\u001b[0;32m      2\u001b[0m \u001b[39mprint\u001b[39m(\u001b[39mf\u001b[39m\u001b[39m'\u001b[39m\u001b[39mFør delta_v Qv:\u001b[39m\u001b[39m{\u001b[39;00mfundament\u001b[39m.\u001b[39mqv\u001b[39m}\u001b[39;00m\u001b[39m'\u001b[39m)\n\u001b[0;32m      3\u001b[0m fundament\u001b[39m.\u001b[39msett_delta_fv(gamma, u)\n",
      "\u001b[1;31mTypeError\u001b[0m: Fundament.__init__() missing 1 required positional argument: 'tykkelse'"
     ]
    }
   ],
   "source": [
    "fundament = grunn.Fundament(4, z, fv_fund, fh)\n",
    "print(f'Før delta_v Qv:{fundament.qv}')\n",
    "fundament.sett_delta_fv(gamma, u)\n",
    "print(f'Etter delta_v Qv:{fundament.qv}')\n",
    "fundament.sett_rb(tan_fi_d, attraksjon)\n",
    "print(f'Etter delta_v tan_fi_d:{fundament.tan_fi_d}')\n",
    "print(f'Etter delta_v attrakson:{fundament.attraksjon}')\n",
    "print(f'Etter delta_v tau:{fundament.tau}')\n",
    "print(f'Etter delta_v rb:{fundament.rb}')\n",
    "fundament.nq_ngamma_faktor(helling=0.33)\n",
    "#fundament.reduksjonsfaktor_v220(helling_forhold)\n",
    "#print(f'fsa:{fundament.fsa}, fsq:{fundament.fsq}')\n",
    "fundament.sigma_v()\n",
    "fundament.sigma_v2()\n",
    "print(f'b0:{fundament.b0}, rb:{fundament.rb}, Nq:{fundament.nq}, Ngamma:{fundament.n_gamma}, Sigma_v:{fundament.sigma_v_}, Qv:{fundament.qv}')\n",
    "print(fundament.sigma_v_)\n",
    "print(fundament.sigma_v_2)"
   ]
  },
  {
   "cell_type": "code",
   "execution_count": null,
   "metadata": {},
   "outputs": [
    {
     "name": "stdout",
     "output_type": "stream",
     "text": [
      "0.5853658536585366\n"
     ]
    }
   ],
   "source": [
    "def sett_rb(tan_fi_d, attraksjon):\n",
    "    rb = 120 / ((400 + attraksjon) * tan_fi_d)\n",
    "    return rb\n",
    "\n",
    "print(sett_rb(0.5, 10))\n"
   ]
  },
  {
   "cell_type": "code",
   "execution_count": null,
   "metadata": {},
   "outputs": [],
   "source": [
    "def reduksjonsfaktor_v220(helling_forhold, tan_fi_d):\n",
    "    try:\n",
    "        math.tan(helling_forhold) < 0.95*tan_fi_d\n",
    "    except:\n",
    "        print()\n",
    "    fsq = (1-(0.55*helling_forhold))**5\n",
    "    fsa = math.e**(-2*math.tan(helling_forhold)*tan_fi_d)\n",
    "    return fsa, fsq"
   ]
  },
  {
   "cell_type": "code",
   "execution_count": null,
   "metadata": {},
   "outputs": [
    {
     "name": "stdout",
     "output_type": "stream",
     "text": [
      "(0.7099754638298533, 0.3673613131072487)\n",
      "(0.6515, 0.471)\n"
     ]
    }
   ],
   "source": [
    "print(reduksjonsfaktor_v220(0.33, 0.5))\n",
    "print(geofunk.reduksjonsfaktor_beta(0.33))"
   ]
  },
  {
   "cell_type": "code",
   "execution_count": null,
   "metadata": {},
   "outputs": [
    {
     "name": "stdout",
     "output_type": "stream",
     "text": [
      "35\n",
      "0.7\n"
     ]
    }
   ],
   "source": [
    "print(grus.phi)\n",
    "print(grus.tanphi)"
   ]
  },
  {
   "cell_type": "code",
   "execution_count": null,
   "metadata": {},
   "outputs": [
    {
     "name": "stdout",
     "output_type": "stream",
     "text": [
      "{'gamma': 20, 'z': 2, 'u': 2, 'b0': 2}\n"
     ]
    }
   ],
   "source": [
    "para_dict = {'gamma':20, 'z':2, 'u':2, 'b0':2}\n",
    "\n",
    "def delta_fv(**kwargs):\n",
    "    print(kwargs)\n",
    "\n",
    "delta_fv(**para_dict)"
   ]
  },
  {
   "cell_type": "code",
   "execution_count": null,
   "metadata": {},
   "outputs": [
    {
     "ename": "TypeError",
     "evalue": "qv_dict() takes 3 positional arguments but 6 were given",
     "output_type": "error",
     "traceback": [
      "\u001b[1;31m---------------------------------------------------------------------------\u001b[0m",
      "\u001b[1;31mTypeError\u001b[0m                                 Traceback (most recent call last)",
      "Cell \u001b[1;32mIn [16], line 1\u001b[0m\n\u001b[1;32m----> 1\u001b[0m qv_dict \u001b[39m=\u001b[39m geofunk\u001b[39m.\u001b[39;49mqv_dict(b0_min, b0_maks, fv_fund, gamma, z, u)\n",
      "\u001b[1;31mTypeError\u001b[0m: qv_dict() takes 3 positional arguments but 6 were given"
     ]
    }
   ],
   "source": [
    "qv_dict = geofunk.qv_dict(b0_min, b0_maks, fv_fund, gamma, z, u)"
   ]
  },
  {
   "cell_type": "code",
   "execution_count": null,
   "metadata": {},
   "outputs": [
    {
     "name": "stdout",
     "output_type": "stream",
     "text": [
      "90\n"
     ]
    }
   ],
   "source": [
    "print(sum([30, 30, 30]))"
   ]
  },
  {
   "cell_type": "code",
   "execution_count": null,
   "metadata": {},
   "outputs": [],
   "source": []
  }
 ],
 "metadata": {
  "kernelspec": {
   "display_name": "Python 3.11.0 ('toolz': venv)",
   "language": "python",
   "name": "python3"
  },
  "language_info": {
   "codemirror_mode": {
    "name": "ipython",
    "version": 3
   },
   "file_extension": ".py",
   "mimetype": "text/x-python",
   "name": "python",
   "nbconvert_exporter": "python",
   "pygments_lexer": "ipython3",
   "version": "3.11.0"
  },
  "orig_nbformat": 4,
  "vscode": {
   "interpreter": {
    "hash": "5f81c317adf64aa74d70386d4402f1693366659fb861bdecc1617e9aaedc1833"
   }
  }
 },
 "nbformat": 4,
 "nbformat_minor": 2
}
