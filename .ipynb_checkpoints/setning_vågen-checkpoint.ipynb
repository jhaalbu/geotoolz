{
 "cells": [
  {
   "cell_type": "code",
   "execution_count": 1,
   "id": "6edc5a72",
   "metadata": {
    "tags": []
   },
   "outputs": [],
   "source": [
    "import grunn\n",
    "import pandas as pd\n",
    "import matplotlib.pyplot as plt"
   ]
  },
  {
   "cell_type": "markdown",
   "id": "b4634a0e",
   "metadata": {},
   "source": [
    "# Setningsberekning for pumpestasjon i Vågen.\n"
   ]
  },
  {
   "cell_type": "markdown",
   "id": "11081efc-8e3c-45f6-95c4-9d4ee5036568",
   "metadata": {},
   "source": [
    "### Grunnlag\n",
    "Boringer utført med fjellborerigg, registert dybder med løsmasse\n",
    "Snitt\n",
    "![Plan](plan.png)"
   ]
  },
  {
   "cell_type": "code",
   "execution_count": 2,
   "id": "a50f97f0",
   "metadata": {},
   "outputs": [
    {
     "name": "stdout",
     "output_type": "stream",
     "text": [
      "hull2 : 9.55 m\n",
      "hull4 : 10.24 m\n",
      "hull5 : 6.6 m\n",
      "hull6 : 7.32 m\n",
      "hull7 : 5.86 m\n"
     ]
    }
   ],
   "source": [
    "hull = {\n",
    "    \"hull2\":round(14.65-5.1,2),\n",
    "    \"hull4\":round(14.24-4,2),\n",
    "    \"hull5\":round(11.4-4.8,2),\n",
    "    \"hull6\":round(12.16-4.84,2),\n",
    "    \"hull7\":round(10.27-4.41,2),\n",
    "}\n",
    "\n",
    "for hullnr, dybde in hull.items():\n",
    "    print(f'{hullnr} : {dybde} m')"
   ]
  },
  {
   "cell_type": "markdown",
   "id": "f0137113",
   "metadata": {},
   "source": [
    "Det ser ut til å vere mellom 4 og 5 meter oppfylling med stein, samt at topp boringer er utført på omlag kote 2.2. Det er stor forksjell på sjøkartnull og normalnull i området og middelvann ligger på omtrent 119 cm. Reknar da i snitt 1 meter fylling over sjø, og 3 meter under."
   ]
  },
  {
   "cell_type": "code",
   "execution_count": 12,
   "id": "0ffea169",
   "metadata": {},
   "outputs": [],
   "source": [
    "#Settter grunnvannsnivå til \"terreng\"\n",
    "u = 0\n",
    "#Setter last med 4 meter oppfylling, delvis neddykka\n",
    "q = (1*19)+(3*9)\n"
   ]
  },
  {
   "cell_type": "markdown",
   "id": "2e7d9277-3d6f-4b62-840c-e0f46aae784d",
   "metadata": {},
   "source": [
    "Rekner ut setninger med \"uendelig\" utsrekning på oppfylling. Gir konservativ og litt høgt resultat, men andre usikkerheter er så store. Oppfylling er uansett stor i forhold til lagmektighet.\n",
    "Rekner ut for forskjellige verdier av setiningsmodul, da denne er ukjent, vil lenger det sammenligne mot Insar data for vudere reelt tall.\n",
    "\n",
    "![Modul](modul.png)"
   ]
  },
  {
   "cell_type": "code",
   "execution_count": 4,
   "id": "a3929721",
   "metadata": {},
   "outputs": [
    {
     "name": "stdout",
     "output_type": "stream",
     "text": [
      "Ved m = 5\n",
      "Setning for hull2 som har lagdybde på 9.55 m = 217 cm\n",
      "\n",
      "Setning for hull4 som har lagdybde på 10.24 m = 224 cm\n",
      "\n",
      "Setning for hull5 som har lagdybde på 6.6 m = 181 cm\n",
      "\n",
      "Setning for hull6 som har lagdybde på 7.32 m = 191 cm\n",
      "\n",
      "Setning for hull7 som har lagdybde på 5.86 m = 171 cm\n",
      "\n",
      "Ved m = 10\n",
      "Setning for hull2 som har lagdybde på 9.55 m = 108 cm\n",
      "\n",
      "Setning for hull4 som har lagdybde på 10.24 m = 112 cm\n",
      "\n",
      "Setning for hull5 som har lagdybde på 6.6 m = 90 cm\n",
      "\n",
      "Setning for hull6 som har lagdybde på 7.32 m = 95 cm\n",
      "\n",
      "Setning for hull7 som har lagdybde på 5.86 m = 85 cm\n",
      "\n",
      "Ved m = 15\n",
      "Setning for hull2 som har lagdybde på 9.55 m = 72 cm\n",
      "\n",
      "Setning for hull4 som har lagdybde på 10.24 m = 74 cm\n",
      "\n",
      "Setning for hull5 som har lagdybde på 6.6 m = 60 cm\n",
      "\n",
      "Setning for hull6 som har lagdybde på 7.32 m = 63 cm\n",
      "\n",
      "Setning for hull7 som har lagdybde på 5.86 m = 57 cm\n",
      "\n",
      "Ved m = 20\n",
      "Setning for hull2 som har lagdybde på 9.55 m = 54 cm\n",
      "\n",
      "Setning for hull4 som har lagdybde på 10.24 m = 56 cm\n",
      "\n",
      "Setning for hull5 som har lagdybde på 6.6 m = 45 cm\n",
      "\n",
      "Setning for hull6 som har lagdybde på 7.32 m = 47 cm\n",
      "\n",
      "Setning for hull7 som har lagdybde på 5.86 m = 42 cm\n",
      "\n",
      "Posisjon: hull2\n",
      "Tid for primærkonsolidering \"best case\": 2.3 år\n",
      "Tid for primærkonsolideringround \"worst case\": 22.8 år\n",
      "Posisjon: hull4\n",
      "Tid for primærkonsolidering \"best case\": 2.6 år\n",
      "Tid for primærkonsolideringround \"worst case\": 26.2 år\n",
      "Posisjon: hull5\n",
      "Tid for primærkonsolidering \"best case\": 1.1 år\n",
      "Tid for primærkonsolideringround \"worst case\": 10.9 år\n",
      "Posisjon: hull6\n",
      "Tid for primærkonsolidering \"best case\": 1.3 år\n",
      "Tid for primærkonsolideringround \"worst case\": 13.4 år\n",
      "Posisjon: hull7\n",
      "Tid for primærkonsolidering \"best case\": 0.9 år\n",
      "Tid for primærkonsolideringround \"worst case\": 8.6 år\n"
     ]
    }
   ],
   "source": [
    "lagliste = {}\n",
    "for key, value in hull.items():\n",
    "    lagliste[key]= grunn.JordLag(\"Leire\", int(value*100), 17)\n",
    "\n",
    "for m in range(5, 21, 5):\n",
    "    print(f'Ved m = {m}')\n",
    "    for hullnr, lag in lagliste.items():\n",
    "        lag.sett_stivhet(m=m)\n",
    "        \n",
    "    #profil = []\n",
    "    #for key, value in lagliste.items():\n",
    "        #profil.append(grunn.JordProfil([value], u))\n",
    "        temp_profil = grunn.JordProfil([lag], u)\n",
    "\n",
    "    #for pro in profil:\n",
    "        temp_profil.setning_uendelig(q)\n",
    "        print(f'Setning for {hullnr} som har lagdybde på {lag.mektighet/100} m = {int(temp_profil.total_setning()*100)} cm')\n",
    "        print('')\n",
    "for hullnr, lag in lagliste.items():\n",
    "    print(f'Posisjon: {hullnr}')\n",
    "    print(f'Tid for primærkonsolidering \"best case\": {round(lag.primerkonsolidering_tid(10),1)} år')\n",
    "    print(f'Tid for primærkonsolideringround \"worst case\": {round(lag.primerkonsolidering_tid(1),1)} år')    "
   ]
  },
  {
   "cell_type": "markdown",
   "id": "f522e530-0010-4900-b12c-c516ce1f2a96",
   "metadata": {},
   "source": [
    "Fra InSar data ser ein at det pågår setning i nærområdet, med omlag linær hastighet på mellom 3.5 og 5.8 mm i året. Med totalsetning opp til 55 cm. De viser at verdi for parameter m, iallefall er høgare enn 20. Antar m på 10 som gir setninger mellom 72 og 118 cm. Med m på 10 så indikerer det at det er blaut leire, som også gir langsom konsolidering."
   ]
  },
  {
   "attachments": {
    "tidsforlop.png": {
     "image/png": "[encoded data removed]"
    }
   },
   "cell_type": "markdown",
   "id": "5bb2bc81",
   "metadata": {},
   "source": [
    "Tidsforløp\n",
    "![tidsforlop.png](attachment:tidsforlop.png)"
   ]
  },
  {
   "cell_type": "code",
   "execution_count": 5,
   "id": "ea4fc0fc",
   "metadata": {},
   "outputs": [],
   "source": [
    "#print(f'Tid for primærkonsolidering \"best case\": {round(leirlag_hull2.primerkonsolidering_tid(10),1)} år')\n",
    "#print(f'Tid for primærkonsolideringround \"worst case\": {round(leirlag_hull2.primerkonsolidering_tid(1),1)} år')"
   ]
  },
  {
   "cell_type": "code",
   "execution_count": 11,
   "id": "ee486543-d6af-48cc-846a-b6bb908e5145",
   "metadata": {},
   "outputs": [
    {
     "data": {
      "image/png": "[encoded data removed]",
      "text/plain": [
       "<Figure size 432x288 with 2 Axes>"
      ]
     },
     "metadata": {
      "needs_background": "light"
     },
     "output_type": "display_data"
    }
   ],
   "source": [
    "lagliste[\"hull6\"].sett_stivhet(m=10)\n",
    "profil6 = grunn.JordProfil([lagliste[\"hull6\"]], u)\n",
    "profil6.setning_uendelig(q)\n",
    "profil6.plot_toyning()\n",
    "plt.show()"
   ]
  },
  {
   "cell_type": "code",
   "execution_count": 7,
   "id": "825a693b",
   "metadata": {},
   "outputs": [
    {
     "name": "stderr",
     "output_type": "stream",
     "text": [
      "C:\\Users\\jan.aalbu\\Anaconda3\\envs\\geohjelp\\lib\\site-packages\\pandas\\core\\indexes\\base.py:5055: FutureWarning: Using a non-tuple sequence for multidimensional indexing is deprecated; use `arr[tuple(seq)]` instead of `arr[seq]`. In the future this will be interpreted as an array index, `arr[np.array(seq)]`, which will result either in an error or a different result.\n",
      "  result = getitem(key)\n"
     ]
    },
    {
     "data": {
      "text/html": [
       "<div>\n",
       "<style scoped>\n",
       "    .dataframe tbody tr th:only-of-type {\n",
       "        vertical-align: middle;\n",
       "    }\n",
       "\n",
       "    .dataframe tbody tr th {\n",
       "        vertical-align: top;\n",
       "    }\n",
       "\n",
       "    .dataframe thead th {\n",
       "        text-align: right;\n",
       "    }\n",
       "</style>\n",
       "<table border=\"1\" class=\"dataframe\">\n",
       "  <thead>\n",
       "    <tr style=\"text-align: right;\">\n",
       "      <th></th>\n",
       "      <th>20150404</th>\n",
       "      <th>20150416</th>\n",
       "      <th>20150428</th>\n",
       "      <th>20150522</th>\n",
       "      <th>20150603</th>\n",
       "      <th>20150615</th>\n",
       "      <th>20150627</th>\n",
       "      <th>20150709</th>\n",
       "      <th>20150721</th>\n",
       "      <th>20150802</th>\n",
       "      <th>...</th>\n",
       "      <th>20210818</th>\n",
       "      <th>20210824</th>\n",
       "      <th>20210830</th>\n",
       "      <th>20210905</th>\n",
       "      <th>20210911</th>\n",
       "      <th>20210917</th>\n",
       "      <th>20210923</th>\n",
       "      <th>20210929</th>\n",
       "      <th>20211005</th>\n",
       "      <th>20211011</th>\n",
       "    </tr>\n",
       "  </thead>\n",
       "  <tbody>\n",
       "    <tr>\n",
       "      <th>0</th>\n",
       "      <td>-4.5</td>\n",
       "      <td>-6.4</td>\n",
       "      <td>-5.9</td>\n",
       "      <td>-3.9</td>\n",
       "      <td>-11.5</td>\n",
       "      <td>-6.2</td>\n",
       "      <td>-11.4</td>\n",
       "      <td>-15.5</td>\n",
       "      <td>8.0</td>\n",
       "      <td>-3.5</td>\n",
       "      <td>...</td>\n",
       "      <td>-48.200001</td>\n",
       "      <td>-53.599998</td>\n",
       "      <td>-50.400002</td>\n",
       "      <td>-55.200001</td>\n",
       "      <td>-44.5</td>\n",
       "      <td>-49.799999</td>\n",
       "      <td>-52.200001</td>\n",
       "      <td>-40.5</td>\n",
       "      <td>-41.099998</td>\n",
       "      <td>-55.099998</td>\n",
       "    </tr>\n",
       "  </tbody>\n",
       "</table>\n",
       "<p>1 rows × 206 columns</p>\n",
       "</div>"
      ],
      "text/plain": [
       "    20150404   20150416   20150428   20150522   20150603   20150615  \\\n",
       "0       -4.5       -6.4       -5.9       -3.9      -11.5       -6.2   \n",
       "\n",
       "    20150627   20150709   20150721   20150802  ...   20210818   20210824  \\\n",
       "0      -11.4      -15.5        8.0       -3.5  ... -48.200001 -53.599998   \n",
       "\n",
       "    20210830   20210905   20210911   20210917   20210923   20210929  \\\n",
       "0 -50.400002 -55.200001      -44.5 -49.799999 -52.200001      -40.5   \n",
       "\n",
       "    20211005   20211011  \n",
       "0 -41.099998 -55.099998  \n",
       "\n",
       "[1 rows x 206 columns]"
      ]
     },
     "execution_count": 7,
     "metadata": {},
     "output_type": "execute_result"
    }
   ],
   "source": [
    "insar = pd.read_csv('insar-point.csv')\n",
    "insar = insar.drop(insar.columns[[list(range(0,29))]], axis=1)\n",
    "insar"
   ]
  },
  {
   "cell_type": "code",
   "execution_count": 8,
   "id": "beb2971e",
   "metadata": {},
   "outputs": [],
   "source": [
    "df = insar.transpose()\n",
    "df.index = pd.to_datetime(df.index)"
   ]
  },
  {
   "cell_type": "code",
   "execution_count": 9,
   "id": "68ed7ea3-efb4-46dc-abae-a2e8cc1667a1",
   "metadata": {},
   "outputs": [
    {
     "data": {
      "text/plain": [
       "<AxesSubplot:>"
      ]
     },
     "execution_count": 9,
     "metadata": {},
     "output_type": "execute_result"
    },
    {
     "data": {
      "image/png": "[encoded data removed]",
      "text/plain": [
       "<Figure size 432x288 with 1 Axes>"
      ]
     },
     "metadata": {
      "needs_background": "light"
     },
     "output_type": "display_data"
    }
   ],
   "source": [
    "df.plot()"
   ]
  },
  {
   "cell_type": "markdown",
   "id": "54e7053b-4c7c-4030-8fb3-e3785a32f70f",
   "metadata": {},
   "source": [
    "## Vurdering\n",
    "Samanlikna med data fra Insar punkt, er det gunn til å tru at modultall ikkje kan være"
   ]
  },
  {
   "cell_type": "code",
   "execution_count": null,
   "id": "fa6732ae-eecb-4ba0-80d7-33aa9cd7e4a6",
   "metadata": {},
   "outputs": [],
   "source": []
  },
  {
   "cell_type": "code",
   "execution_count": null,
   "id": "8742c322-d024-429e-a658-6fcda1e679ac",
   "metadata": {},
   "outputs": [],
   "source": []
  },
  {
   "cell_type": "code",
   "execution_count": null,
   "id": "c668e43d-5a3c-4d21-84a7-4e58112c2850",
   "metadata": {},
   "outputs": [],
   "source": []
  },
  {
   "cell_type": "code",
   "execution_count": null,
   "id": "853aab6d-ac3d-46f8-8fd7-86de4da2f8ab",
   "metadata": {},
   "outputs": [],
   "source": []
  },
  {
   "cell_type": "code",
   "execution_count": null,
   "id": "04b28639-59a0-491d-81d8-034dfb2cb035",
   "metadata": {},
   "outputs": [],
   "source": []
  },
  {
   "cell_type": "code",
   "execution_count": null,
   "id": "36f66908-f4da-4034-86df-bfe67803a68d",
   "metadata": {},
   "outputs": [],
   "source": []
  },
  {
   "cell_type": "code",
   "execution_count": null,
   "id": "e829f192-6eb1-42ba-baf5-5cdd2ad4ef5f",
   "metadata": {},
   "outputs": [],
   "source": []
  },
  {
   "cell_type": "code",
   "execution_count": null,
   "id": "13897301-c4d3-4970-ae4d-1ba91c915fe0",
   "metadata": {},
   "outputs": [],
   "source": []
  },
  {
   "cell_type": "code",
   "execution_count": null,
   "id": "9ec37ef1-f06f-4ca2-93bc-37981160e2ea",
   "metadata": {},
   "outputs": [],
   "source": []
  },
  {
   "cell_type": "code",
   "execution_count": null,
   "id": "2d1b89ea-f20a-4426-9862-ce843c554031",
   "metadata": {},
   "outputs": [],
   "source": []
  },
  {
   "cell_type": "code",
   "execution_count": null,
   "id": "08c2e5d0-83e2-4f15-a0e8-05aa4834794f",
   "metadata": {},
   "outputs": [],
   "source": []
  },
  {
   "cell_type": "code",
   "execution_count": null,
   "id": "fcb52815-2f55-4a86-a336-60ab245a5c8f",
   "metadata": {},
   "outputs": [],
   "source": []
  },
  {
   "cell_type": "code",
   "execution_count": null,
   "id": "0eca420d-72c4-4143-b1ea-be27206500b1",
   "metadata": {},
   "outputs": [],
   "source": []
  },
  {
   "cell_type": "code",
   "execution_count": null,
   "id": "7e9f26ce-f598-407b-84a6-227604ea8ffa",
   "metadata": {},
   "outputs": [],
   "source": []
  },
  {
   "cell_type": "code",
   "execution_count": null,
   "id": "ae483a59-44a6-4af6-b82a-171ed82530f2",
   "metadata": {},
   "outputs": [],
   "source": []
  },
  {
   "cell_type": "code",
   "execution_count": null,
   "id": "f9e1ec2a-b517-400a-8332-6b7397e5794f",
   "metadata": {},
   "outputs": [],
   "source": []
  },
  {
   "cell_type": "code",
   "execution_count": null,
   "id": "4f456680-2cb2-4cf1-a151-dc26a72950bc",
   "metadata": {},
   "outputs": [],
   "source": []
  },
  {
   "cell_type": "code",
   "execution_count": null,
   "id": "f55ab955-1fe3-4201-90f8-31627927e3ed",
   "metadata": {},
   "outputs": [],
   "source": []
  }
 ],
 "metadata": {
  "kernelspec": {
   "display_name": "Python 3 (ipykernel)",
   "language": "python",
   "name": "python3"
  },
  "language_info": {
   "codemirror_mode": {
    "name": "ipython",
    "version": 3
   },
   "file_extension": ".py",
   "mimetype": "text/x-python",
   "name": "python",
   "nbconvert_exporter": "python",
   "pygments_lexer": "ipython3",
   "version": "3.10.4"
  }
 },
 "nbformat": 4,
 "nbformat_minor": 5
}
